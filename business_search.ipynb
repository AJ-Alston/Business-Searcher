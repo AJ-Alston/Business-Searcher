{
 "cells": [
  {
   "cell_type": "code",
   "execution_count": 76,
   "metadata": {},
   "outputs": [],
   "source": [
    "from unqlite import UnQLite\n",
    "\n",
    "db = UnQLite('sample.db')\n",
    "data = db.collection('data')"
   ]
  },
  {
   "cell_type": "code",
   "execution_count": 125,
   "metadata": {},
   "outputs": [],
   "source": [
    "# Graded Cell: test_function\n",
    "# DO NOT REMOVE THE ABOVE LINE\n",
    "\n",
    "\n",
    "def FindBusinessBasedOnCity(cityToSearch,saveLocation1,collection):\n",
    "    records = collection.__len__()\n",
    "    i=0\n",
    "    with open(saveLocation1,'w') as file:\n",
    "        \n",
    "        while i < records:\n",
    "            record = collection.fetch(i)\n",
    "            city = record['city']\n",
    "            if city ==cityToSearch:\n",
    "               file.write(record['name']+\"$\"+record['full_address']+\"$\"+city+\"$\"+record['state']+'\\n')\n",
    "            i+=1\n",
    "    pass\n",
    "def FindBusinessBasedOnLocation(categoriesToSearch, myLocation, maxDistance, saveLocation2, collection):\n",
    "    \n",
    "    import math\n",
    "    records = collection.__len__()\n",
    "    i=0\n",
    "    def distance(lat2,lon2,lat1,lon1):\n",
    "        r=3963\n",
    "        lat1rad = math.radians(lat1)\n",
    "        lat2rad = math.radians(lat2)\n",
    "        \n",
    "        delphi = math.radians(lat2-lat1)\n",
    "        dellamb = math.radians(lon2-lon1)\n",
    "        a = math.sin(delphi/2)*math.sin(delphi/2)+math.cos(lat1rad)*math.cos(lat2rad)*math.sin(dellamb/2)*math.sin(dellamb/2)\n",
    "        c=2*math.atan2(math.sqrt(a),math.sqrt(1-a))\n",
    "        d=r*c\n",
    "        return d\n",
    "    i=0\n",
    "    indexes=[]\n",
    "    while i<records:\n",
    "        lon1 = collection.fetch(i)['longitude']\n",
    "        lat1 = collection.fetch(i)['latitude']\n",
    "        lon2 = myLocation[1]\n",
    "        lat2 = myLocation[0]\n",
    "        d = distance(lat2,lon2,lat1,lon1)\n",
    "        if d<=maxDistance:\n",
    "            indexes.append(i)\n",
    "        i+=1\n",
    "    i=0\n",
    "    namematch=[]\n",
    "    with open(saveLocation2,'w') as file: \n",
    "        \n",
    "        while i < len(indexes):\n",
    "            record = collection.fetch(indexes[i])\n",
    "            name = record['name']\n",
    "            j=0\n",
    "            while j<len(record['categories']):\n",
    "                k=0\n",
    "                while k<len(categoriesToSearch):\n",
    "                    if categoriesToSearch[k] == record['categories'][j]:\n",
    "                        namematch.append(name)\n",
    "                        k=len(categoriesToSearch)\n",
    "                    k+=1\n",
    "                j+=1\n",
    "            i+=1\n",
    "        i=0\n",
    "        while i<len(namematch):\n",
    "            file.write(namematch[i]+'\\n')\n",
    "            i+=1        \n",
    "    pass\n",
    "\n"
   ]
  },
  {
   "cell_type": "code",
   "execution_count": 126,
   "metadata": {},
   "outputs": [
    {
     "name": "stdout",
     "output_type": "stream",
     "text": [
      "Correct! You FindBusinessByCity function passes these test cases. This does not cover all possible test edge cases, however, so make sure that your function covers them before submitting!\n"
     ]
    }
   ],
   "source": [
    "true_results = [\"VinciTorio's Restaurant$1835 E Elliot Rd, Ste C109, Tempe, AZ 85284$Tempe$AZ\", \"P.croissants$7520 S Rural Rd, Tempe, AZ 85283$Tempe$AZ\", \"Salt Creek Home$1725 W Ruby Dr, Tempe, AZ 85284$Tempe$AZ\"]\n",
    "\n",
    "try:\n",
    "    FindBusinessBasedOnCity('Tempe', 'output_city.txt', data)\n",
    "except NameError as e:\n",
    "    print ('The FindBusinessBasedOnCity function is not defined! You must run the cell containing the function before running this evaluation cell.')\n",
    "except TypeError as e:\n",
    "    print (\"The FindBusinessBasedOnCity function is supposed to accept three arguments. Yours does not!\")\n",
    "    \n",
    "try:\n",
    "    opf = open('output_city.txt', 'r')\n",
    "except FileNotFoundError as e:\n",
    "    print (\"The FindBusinessBasedOnCity function does not write data to the correct location.\")\n",
    "    \n",
    "lines = opf.readlines()\n",
    "if len(lines) != 3:\n",
    "    print (\"The FindBusinessBasedOnCity function does not find the correct number of results, should be 3.\")\n",
    "    \n",
    "lines = [line.strip() for line in lines]\n",
    "if sorted(lines) == sorted(true_results):\n",
    "    print (\"Correct! You FindBusinessByCity function passes these test cases. This does not cover all possible test edge cases, however, so make sure that your function covers them before submitting!\")"
   ]
  },
  {
   "cell_type": "code",
   "execution_count": 119,
   "metadata": {},
   "outputs": [
    {
     "name": "stdout",
     "output_type": "stream",
     "text": [
      "Correct! Your FindBusinessBasedOnLocation function passes these test cases. This does not cover all possible edge cases, so make sure your function does before submitting.\n"
     ]
    }
   ],
   "source": [
    "true_results = [\"VinciTorio's Restaurant\"]\n",
    "\n",
    "try:\n",
    "    FindBusinessBasedOnLocation(['Buffets'], [33.3482589, -111.9088346], 10, 'output_loc.txt', data)\n",
    "except NameError as e: \n",
    "    print ('The FindBusinessBasedOnLocation function is not defined! You must run the cell containing the function before running this evaluation cell.')\n",
    "except TypeError as e:\n",
    "    print (\"The FindBusinessBasedOnLocation function is supposed to accept five arguments. Yours does not!\")\n",
    "    \n",
    "try:\n",
    "    opf = open('output_loc.txt','r')\n",
    "except FileNotFoundError as e:\n",
    "    print (\"The FindBusinessBasedOnLocation function does not write data to the correct location.\")\n",
    "\n",
    "lines = opf.readlines()\n",
    "if len(lines) != 1:\n",
    "    print (\"The FindBusinessBasedOnLocation function does not find the correct number of results, should be only 1.\")\n",
    "\n",
    "if lines[0].strip() == true_results[0]:\n",
    "    print (\"Correct! Your FindBusinessBasedOnLocation function passes these test cases. This does not cover all possible edge cases, so make sure your function does before submitting.\")"
   ]
  },
  {
   "cell_type": "code",
   "execution_count": null,
   "metadata": {},
   "outputs": [],
   "source": []
  }
 ],
 "metadata": {
  "kernelspec": {
   "display_name": "Python 3 (ipykernel)",
   "language": "python",
   "name": "python3"
  },
  "language_info": {
   "codemirror_mode": {
    "name": "ipython",
    "version": 3
   },
   "file_extension": ".py",
   "mimetype": "text/x-python",
   "name": "python",
   "nbconvert_exporter": "python",
   "pygments_lexer": "ipython3",
   "version": "3.11.7"
  }
 },
 "nbformat": 4,
 "nbformat_minor": 4
}
